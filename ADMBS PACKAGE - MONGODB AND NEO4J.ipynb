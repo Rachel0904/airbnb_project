{
 "cells": [
  {
   "cell_type": "markdown",
   "metadata": {},
   "source": [
    "## MONGODB"
   ]
  },
  {
   "cell_type": "markdown",
   "metadata": {},
   "source": [
    "### IMPORTING LIBRARIES"
   ]
  },
  {
   "cell_type": "code",
   "execution_count": 2,
   "metadata": {},
   "outputs": [],
   "source": [
    "import pymongo\n",
    "from pymongo import MongoClient\n",
    "from pprint import pprint\n",
    "\n",
    "import pandas as pd\n",
    "import numpy as np\n",
    "\n",
    "from datetime import datetime\n",
    "from dateutil.parser import parse\n",
    "\n",
    "import math\n",
    "from passlib.hash import bcrypt\n",
    "\n",
    "import random\n",
    "import string"
   ]
  },
  {
   "cell_type": "markdown",
   "metadata": {},
   "source": [
    "### CREATING A DATABASE"
   ]
  },
  {
   "cell_type": "code",
   "execution_count": 3,
   "metadata": {},
   "outputs": [],
   "source": [
    "client = MongoClient()\n",
    "db = client.package_adbms"
   ]
  },
  {
   "cell_type": "code",
   "execution_count": 4,
   "metadata": {},
   "outputs": [
    {
     "data": {
      "text/plain": [
       "Database(MongoClient(host=['localhost:27017'], document_class=dict, tz_aware=False, connect=True), 'package_adbms')"
      ]
     },
     "execution_count": 4,
     "metadata": {},
     "output_type": "execute_result"
    }
   ],
   "source": [
    "db"
   ]
  },
  {
   "cell_type": "markdown",
   "metadata": {},
   "source": [
    "### IMPORTING DATASETS"
   ]
  },
  {
   "cell_type": "code",
   "execution_count": 5,
   "metadata": {},
   "outputs": [],
   "source": [
    "reviews = pd.read_csv(\"C:\\\\Users\\\\admin\\\\Desktop\\\\Things_to_be_in_HDD\\\\8th_Sem\\\\PACKAGE\\\\ADBMS\\\\reviews_.csv\")\n",
    "listings = pd.read_csv(\"C:\\\\Users\\\\admin\\\\Desktop\\\\Things_to_be_in_HDD\\\\8th_Sem\\\\PACKAGE\\\\ADBMS\\\\listings_.csv\")"
   ]
  },
  {
   "cell_type": "code",
   "execution_count": 6,
   "metadata": {},
   "outputs": [
    {
     "data": {
      "text/html": [
       "<div>\n",
       "<style scoped>\n",
       "    .dataframe tbody tr th:only-of-type {\n",
       "        vertical-align: middle;\n",
       "    }\n",
       "\n",
       "    .dataframe tbody tr th {\n",
       "        vertical-align: top;\n",
       "    }\n",
       "\n",
       "    .dataframe thead th {\n",
       "        text-align: right;\n",
       "    }\n",
       "</style>\n",
       "<table border=\"1\" class=\"dataframe\">\n",
       "  <thead>\n",
       "    <tr style=\"text-align: right;\">\n",
       "      <th></th>\n",
       "      <th>listing_id</th>\n",
       "      <th>id</th>\n",
       "      <th>date</th>\n",
       "      <th>reviewer_id</th>\n",
       "      <th>reviewer_name</th>\n",
       "      <th>comments</th>\n",
       "    </tr>\n",
       "  </thead>\n",
       "  <tbody>\n",
       "    <tr>\n",
       "      <th>0</th>\n",
       "      <td>50904</td>\n",
       "      <td>31511792</td>\n",
       "      <td>2015-05-06</td>\n",
       "      <td>19482395</td>\n",
       "      <td>Jihae</td>\n",
       "      <td>Karin’s “Aplace” is absolutely beautiful and c...</td>\n",
       "    </tr>\n",
       "    <tr>\n",
       "      <th>1</th>\n",
       "      <td>116134</td>\n",
       "      <td>972063</td>\n",
       "      <td>2012-03-05</td>\n",
       "      <td>928644</td>\n",
       "      <td>Aurélien</td>\n",
       "      <td>Amazing flat, really close from the MAS Musem,...</td>\n",
       "    </tr>\n",
       "    <tr>\n",
       "      <th>2</th>\n",
       "      <td>116134</td>\n",
       "      <td>1344011</td>\n",
       "      <td>2012-05-25</td>\n",
       "      <td>231288</td>\n",
       "      <td>Gail</td>\n",
       "      <td>This is a well equipped, very comfortable apar...</td>\n",
       "    </tr>\n",
       "    <tr>\n",
       "      <th>3</th>\n",
       "      <td>116134</td>\n",
       "      <td>7019975</td>\n",
       "      <td>2013-09-03</td>\n",
       "      <td>7984251</td>\n",
       "      <td>Marcel</td>\n",
       "      <td>This is a very nice appartement. We really lik...</td>\n",
       "    </tr>\n",
       "    <tr>\n",
       "      <th>4</th>\n",
       "      <td>116134</td>\n",
       "      <td>7693157</td>\n",
       "      <td>2013-09-30</td>\n",
       "      <td>1609507</td>\n",
       "      <td>Barbara</td>\n",
       "      <td>The appartment is beautiful, the best I've eve...</td>\n",
       "    </tr>\n",
       "  </tbody>\n",
       "</table>\n",
       "</div>"
      ],
      "text/plain": [
       "   listing_id        id        date  reviewer_id reviewer_name  \\\n",
       "0       50904  31511792  2015-05-06     19482395         Jihae   \n",
       "1      116134    972063  2012-03-05       928644      Aurélien   \n",
       "2      116134   1344011  2012-05-25       231288          Gail   \n",
       "3      116134   7019975  2013-09-03      7984251        Marcel   \n",
       "4      116134   7693157  2013-09-30      1609507       Barbara   \n",
       "\n",
       "                                            comments  \n",
       "0  Karin’s “Aplace” is absolutely beautiful and c...  \n",
       "1  Amazing flat, really close from the MAS Musem,...  \n",
       "2  This is a well equipped, very comfortable apar...  \n",
       "3  This is a very nice appartement. We really lik...  \n",
       "4  The appartment is beautiful, the best I've eve...  "
      ]
     },
     "execution_count": 6,
     "metadata": {},
     "output_type": "execute_result"
    }
   ],
   "source": [
    "reviews.head()"
   ]
  },
  {
   "cell_type": "code",
   "execution_count": 7,
   "metadata": {},
   "outputs": [
    {
     "data": {
      "text/html": [
       "<div>\n",
       "<style scoped>\n",
       "    .dataframe tbody tr th:only-of-type {\n",
       "        vertical-align: middle;\n",
       "    }\n",
       "\n",
       "    .dataframe tbody tr th {\n",
       "        vertical-align: top;\n",
       "    }\n",
       "\n",
       "    .dataframe thead th {\n",
       "        text-align: right;\n",
       "    }\n",
       "</style>\n",
       "<table border=\"1\" class=\"dataframe\">\n",
       "  <thead>\n",
       "    <tr style=\"text-align: right;\">\n",
       "      <th></th>\n",
       "      <th>id</th>\n",
       "      <th>listing_url</th>\n",
       "      <th>scrape_id</th>\n",
       "      <th>last_scraped</th>\n",
       "      <th>name</th>\n",
       "      <th>summary</th>\n",
       "      <th>space</th>\n",
       "      <th>description</th>\n",
       "      <th>experiences_offered</th>\n",
       "      <th>neighborhood_overview</th>\n",
       "      <th>...</th>\n",
       "      <th>instant_bookable</th>\n",
       "      <th>is_business_travel_ready</th>\n",
       "      <th>cancellation_policy</th>\n",
       "      <th>require_guest_profile_picture</th>\n",
       "      <th>require_guest_phone_verification</th>\n",
       "      <th>calculated_host_listings_count</th>\n",
       "      <th>calculated_host_listings_count_entire_homes</th>\n",
       "      <th>calculated_host_listings_count_private_rooms</th>\n",
       "      <th>calculated_host_listings_count_shared_rooms</th>\n",
       "      <th>reviews_per_month</th>\n",
       "    </tr>\n",
       "  </thead>\n",
       "  <tbody>\n",
       "    <tr>\n",
       "      <th>0</th>\n",
       "      <td>50904</td>\n",
       "      <td>https://www.airbnb.com/rooms/50904</td>\n",
       "      <td>20200227171200</td>\n",
       "      <td>2020-02-27</td>\n",
       "      <td>aplace/antwerp: cosy suite - fashion district</td>\n",
       "      <td>Decorated in a vintage style combined with a f...</td>\n",
       "      <td>Aplace Antwerp is located on a charming little...</td>\n",
       "      <td>Decorated in a vintage style combined with a f...</td>\n",
       "      <td>none</td>\n",
       "      <td>NaN</td>\n",
       "      <td>...</td>\n",
       "      <td>f</td>\n",
       "      <td>f</td>\n",
       "      <td>strict_14_with_grace_period</td>\n",
       "      <td>f</td>\n",
       "      <td>f</td>\n",
       "      <td>4</td>\n",
       "      <td>2</td>\n",
       "      <td>0</td>\n",
       "      <td>0</td>\n",
       "      <td>0.02</td>\n",
       "    </tr>\n",
       "    <tr>\n",
       "      <th>1</th>\n",
       "      <td>116134</td>\n",
       "      <td>https://www.airbnb.com/rooms/116134</td>\n",
       "      <td>20200227171200</td>\n",
       "      <td>2020-02-27</td>\n",
       "      <td>Trendy Vacation Apartment Antwerp</td>\n",
       "      <td>Enjoy your stay at our 4 person apartment in t...</td>\n",
       "      <td>You'll have the chance to stay in a very nice,...</td>\n",
       "      <td>Enjoy your stay at our 4 person apartment in t...</td>\n",
       "      <td>none</td>\n",
       "      <td>The area \"`t eilandje\" is located at the old h...</td>\n",
       "      <td>...</td>\n",
       "      <td>t</td>\n",
       "      <td>f</td>\n",
       "      <td>strict_14_with_grace_period</td>\n",
       "      <td>f</td>\n",
       "      <td>f</td>\n",
       "      <td>1</td>\n",
       "      <td>1</td>\n",
       "      <td>0</td>\n",
       "      <td>0</td>\n",
       "      <td>1.02</td>\n",
       "    </tr>\n",
       "    <tr>\n",
       "      <th>2</th>\n",
       "      <td>224333</td>\n",
       "      <td>https://www.airbnb.com/rooms/224333</td>\n",
       "      <td>20200227171200</td>\n",
       "      <td>2020-02-27</td>\n",
       "      <td>Large stylish room in 1930s house + garden</td>\n",
       "      <td>Large bedroom in classic 1930s house. Kitchen,...</td>\n",
       "      <td>My house is too big for me currently to use th...</td>\n",
       "      <td>Large bedroom in classic 1930s house. Kitchen,...</td>\n",
       "      <td>none</td>\n",
       "      <td>The house is located in one of the most beauti...</td>\n",
       "      <td>...</td>\n",
       "      <td>f</td>\n",
       "      <td>f</td>\n",
       "      <td>moderate</td>\n",
       "      <td>f</td>\n",
       "      <td>f</td>\n",
       "      <td>2</td>\n",
       "      <td>0</td>\n",
       "      <td>2</td>\n",
       "      <td>0</td>\n",
       "      <td>0.01</td>\n",
       "    </tr>\n",
       "    <tr>\n",
       "      <th>3</th>\n",
       "      <td>224682</td>\n",
       "      <td>https://www.airbnb.com/rooms/224682</td>\n",
       "      <td>20200227171200</td>\n",
       "      <td>2020-02-27</td>\n",
       "      <td>APARTMENT ROSCAM - OLD CENTRE ANTWERP</td>\n",
       "      <td>NaN</td>\n",
       "      <td>Apartment \"Roscam\" is a charming self catering...</td>\n",
       "      <td>Apartment \"Roscam\" is a charming self catering...</td>\n",
       "      <td>none</td>\n",
       "      <td>There is a paid parking lot around the corner....</td>\n",
       "      <td>...</td>\n",
       "      <td>f</td>\n",
       "      <td>f</td>\n",
       "      <td>moderate</td>\n",
       "      <td>f</td>\n",
       "      <td>f</td>\n",
       "      <td>1</td>\n",
       "      <td>1</td>\n",
       "      <td>0</td>\n",
       "      <td>0</td>\n",
       "      <td>3.38</td>\n",
       "    </tr>\n",
       "    <tr>\n",
       "      <th>4</th>\n",
       "      <td>345959</td>\n",
       "      <td>https://www.airbnb.com/rooms/345959</td>\n",
       "      <td>20200227171200</td>\n",
       "      <td>2020-02-27</td>\n",
       "      <td>Marleen's home in Antwerp city</td>\n",
       "      <td>your entire, private groundfloor 2-bedroom apa...</td>\n",
       "      <td>We welcome you on the ground floor of our hous...</td>\n",
       "      <td>your entire, private groundfloor 2-bedroom apa...</td>\n",
       "      <td>none</td>\n",
       "      <td>NaN</td>\n",
       "      <td>...</td>\n",
       "      <td>f</td>\n",
       "      <td>f</td>\n",
       "      <td>strict_14_with_grace_period</td>\n",
       "      <td>f</td>\n",
       "      <td>f</td>\n",
       "      <td>2</td>\n",
       "      <td>2</td>\n",
       "      <td>0</td>\n",
       "      <td>0</td>\n",
       "      <td>0.57</td>\n",
       "    </tr>\n",
       "  </tbody>\n",
       "</table>\n",
       "<p>5 rows × 106 columns</p>\n",
       "</div>"
      ],
      "text/plain": [
       "       id                          listing_url       scrape_id last_scraped  \\\n",
       "0   50904   https://www.airbnb.com/rooms/50904  20200227171200   2020-02-27   \n",
       "1  116134  https://www.airbnb.com/rooms/116134  20200227171200   2020-02-27   \n",
       "2  224333  https://www.airbnb.com/rooms/224333  20200227171200   2020-02-27   \n",
       "3  224682  https://www.airbnb.com/rooms/224682  20200227171200   2020-02-27   \n",
       "4  345959  https://www.airbnb.com/rooms/345959  20200227171200   2020-02-27   \n",
       "\n",
       "                                            name  \\\n",
       "0  aplace/antwerp: cosy suite - fashion district   \n",
       "1              Trendy Vacation Apartment Antwerp   \n",
       "2     Large stylish room in 1930s house + garden   \n",
       "3          APARTMENT ROSCAM - OLD CENTRE ANTWERP   \n",
       "4                 Marleen's home in Antwerp city   \n",
       "\n",
       "                                             summary  \\\n",
       "0  Decorated in a vintage style combined with a f...   \n",
       "1  Enjoy your stay at our 4 person apartment in t...   \n",
       "2  Large bedroom in classic 1930s house. Kitchen,...   \n",
       "3                                                NaN   \n",
       "4  your entire, private groundfloor 2-bedroom apa...   \n",
       "\n",
       "                                               space  \\\n",
       "0  Aplace Antwerp is located on a charming little...   \n",
       "1  You'll have the chance to stay in a very nice,...   \n",
       "2  My house is too big for me currently to use th...   \n",
       "3  Apartment \"Roscam\" is a charming self catering...   \n",
       "4  We welcome you on the ground floor of our hous...   \n",
       "\n",
       "                                         description experiences_offered  \\\n",
       "0  Decorated in a vintage style combined with a f...                none   \n",
       "1  Enjoy your stay at our 4 person apartment in t...                none   \n",
       "2  Large bedroom in classic 1930s house. Kitchen,...                none   \n",
       "3  Apartment \"Roscam\" is a charming self catering...                none   \n",
       "4  your entire, private groundfloor 2-bedroom apa...                none   \n",
       "\n",
       "                               neighborhood_overview  ... instant_bookable  \\\n",
       "0                                                NaN  ...                f   \n",
       "1  The area \"`t eilandje\" is located at the old h...  ...                t   \n",
       "2  The house is located in one of the most beauti...  ...                f   \n",
       "3  There is a paid parking lot around the corner....  ...                f   \n",
       "4                                                NaN  ...                f   \n",
       "\n",
       "  is_business_travel_ready          cancellation_policy  \\\n",
       "0                        f  strict_14_with_grace_period   \n",
       "1                        f  strict_14_with_grace_period   \n",
       "2                        f                     moderate   \n",
       "3                        f                     moderate   \n",
       "4                        f  strict_14_with_grace_period   \n",
       "\n",
       "  require_guest_profile_picture require_guest_phone_verification  \\\n",
       "0                             f                                f   \n",
       "1                             f                                f   \n",
       "2                             f                                f   \n",
       "3                             f                                f   \n",
       "4                             f                                f   \n",
       "\n",
       "   calculated_host_listings_count  \\\n",
       "0                               4   \n",
       "1                               1   \n",
       "2                               2   \n",
       "3                               1   \n",
       "4                               2   \n",
       "\n",
       "   calculated_host_listings_count_entire_homes  \\\n",
       "0                                            2   \n",
       "1                                            1   \n",
       "2                                            0   \n",
       "3                                            1   \n",
       "4                                            2   \n",
       "\n",
       "  calculated_host_listings_count_private_rooms  \\\n",
       "0                                            0   \n",
       "1                                            0   \n",
       "2                                            2   \n",
       "3                                            0   \n",
       "4                                            0   \n",
       "\n",
       "   calculated_host_listings_count_shared_rooms  reviews_per_month  \n",
       "0                                            0               0.02  \n",
       "1                                            0               1.02  \n",
       "2                                            0               0.01  \n",
       "3                                            0               3.38  \n",
       "4                                            0               0.57  \n",
       "\n",
       "[5 rows x 106 columns]"
      ]
     },
     "execution_count": 7,
     "metadata": {},
     "output_type": "execute_result"
    }
   ],
   "source": [
    "listings.head()"
   ]
  },
  {
   "cell_type": "code",
   "execution_count": 5,
   "metadata": {},
   "outputs": [],
   "source": [
    "listings = listings.replace(to_replace =\"strict_14_with_grace_period\", \n",
    "                 value =\"strict\") "
   ]
  },
  {
   "cell_type": "code",
   "execution_count": 6,
   "metadata": {},
   "outputs": [],
   "source": [
    "listings = listings.replace(to_replace = \"Entire home/apt\", value = \"Entire home\")"
   ]
  },
  {
   "cell_type": "code",
   "execution_count": 7,
   "metadata": {},
   "outputs": [
    {
     "data": {
      "text/plain": [
       "flexible    854\n",
       "moderate    822\n",
       "strict      771\n",
       "Name: cancellation_policy, dtype: int64"
      ]
     },
     "execution_count": 7,
     "metadata": {},
     "output_type": "execute_result"
    }
   ],
   "source": [
    "listings[\"cancellation_policy\"].value_counts()"
   ]
  },
  {
   "cell_type": "code",
   "execution_count": 8,
   "metadata": {},
   "outputs": [
    {
     "data": {
      "text/plain": [
       "Entire home     1862\n",
       "Private room     542\n",
       "Shared room       26\n",
       "Hotel room        17\n",
       "Name: room_type, dtype: int64"
      ]
     },
     "execution_count": 8,
     "metadata": {},
     "output_type": "execute_result"
    }
   ],
   "source": [
    "listings[\"room_type\"].value_counts()"
   ]
  },
  {
   "cell_type": "code",
   "execution_count": 9,
   "metadata": {},
   "outputs": [],
   "source": [
    "def Generate_Password(stringLength = random.randint(5,9)):\n",
    "    password_characters = string.ascii_letters + string.digits + string.punctuation\n",
    "    return(''.join(random.choice(password_characters) for i in range(stringLength)))"
   ]
  },
  {
   "cell_type": "code",
   "execution_count": 10,
   "metadata": {},
   "outputs": [],
   "source": [
    "passwords = []\n",
    "for i in range(len(listings)):\n",
    "    passwords.append(Generate_Password())\n",
    "listings[\"password\"] = passwords"
   ]
  },
  {
   "cell_type": "code",
   "execution_count": 11,
   "metadata": {},
   "outputs": [
    {
     "data": {
      "text/plain": [
       "0    nO,)YoC\n",
       "1    j7xC)Ag\n",
       "2    uG*[QhQ\n",
       "3    tC4tv$r\n",
       "4    {Wiy?</\n",
       "Name: password, dtype: object"
      ]
     },
     "execution_count": 11,
     "metadata": {},
     "output_type": "execute_result"
    }
   ],
   "source": [
    "listings[\"password\"].head()"
   ]
  },
  {
   "cell_type": "code",
   "execution_count": 12,
   "metadata": {},
   "outputs": [],
   "source": [
    "passwords = []\n",
    "for i in range(len(reviews)):\n",
    "    passwords.append(Generate_Password())\n",
    "reviews[\"password\"] = passwords"
   ]
  },
  {
   "cell_type": "code",
   "execution_count": 13,
   "metadata": {},
   "outputs": [],
   "source": [
    "# User_Node\n",
    "db.users.create_index('userid', unique=True)\n",
    "for index, row in reviews.iterrows():\n",
    "    user = {\n",
    "        \"userid\" : str(row[\"reviewer_id\"]),\n",
    "        \"username\" : row[\"reviewer_name\"],\n",
    "        \"password\" : str(row[\"password\"])\n",
    "    }\n",
    "    try:\n",
    "        db.users.insert_one(user)\n",
    "    except pymongo.errors.DuplicateKeyError:\n",
    "        pass"
   ]
  },
  {
   "cell_type": "code",
   "execution_count": 14,
   "metadata": {},
   "outputs": [],
   "source": [
    "# Listings_node\n",
    "db.listings.create_index('listing_id', unique=True)\n",
    "for index, row in listings.iterrows():\n",
    "    listing = {\n",
    "        \"listing_id\"                  : str(row[\"id\"]),\n",
    "        \"listing_name\"                : row[\"name\"],\n",
    "        \"summary\"                     : row[\"summary\"],\n",
    "        \"picture_url\"                 : row[\"picture_url\"],\n",
    "        \n",
    "        \"host_id\"                     : str(row[\"host_id\"]),\n",
    "        \n",
    "        \"property_type\"               : row[\"property_type\"],\n",
    "        \"room_type\"                   : row[\"room_type\"],\n",
    "        \"bed_type\"                    : row[\"bed_type\"],\n",
    "        \"no_of_beds\"                  : \"info NA\" if str(type(row[\"beds\"])) == \"<class 'float'>\" else int(row[\"beds\"]),\n",
    "        \"no_of_bedrooms\"              : row[\"bedrooms\"],\n",
    "        \"no_of_accommodates\"          : row[\"accommodates\"],\n",
    "        \n",
    "        \"price\"                       : float(row[\"price\"][1:].replace(\",\", \"\")),\n",
    "        \"cleaning_fee\"                : \"info NA\" if str(type(row[\"cleaning_fee\"])) == \"<class 'float'>\" else float(row[\"cleaning_fee\"][1:].replace(\",\", \"\")),\n",
    "        \"security_deposit\"            : \"info NA\" if str(type(row[\"security_deposit\"])) == \"<class 'float'>\" else float(row[\"security_deposit\"][1:].replace(\",\", \"\")),\n",
    "        \"monthly_price\"               : \"info NA\" if str(type(row[\"monthly_price\"])) == \"<class 'float'>\" else float(row[\"monthly_price\"][1:].replace(\",\", \"\")),\n",
    "        \"weekly_price\"                : \"info NA\" if str(type(row[\"weekly_price\"])) == \"<class 'float'>\" else float(row[\"weekly_price\"][1:].replace(\",\", \"\")),\n",
    "        \n",
    "        \"cancellation_policy\"         : row[\"cancellation_policy\"],\n",
    "        \"instant_bookable\"            : row[\"instant_bookable\"],\n",
    "            \n",
    "            \"availability_30\"         : row[\"availability_30\"],\n",
    "            \"availability_60\"         : row[\"availability_60\"],\n",
    "            \"availability_90\"         : row[\"availability_90\"],\n",
    "            \"availability_365\"        : row[\"availability_365\"],\n",
    "        \n",
    "        \"neighbourhood\" : row[\"neighbourhood_cleansed\"]\n",
    "        \n",
    "    }\n",
    "    \n",
    "    try:\n",
    "        db.listings.insert_one(listing)\n",
    "    except pymongo.errors.DuplicateKeyError:\n",
    "        pass"
   ]
  },
  {
   "cell_type": "code",
   "execution_count": 23,
   "metadata": {},
   "outputs": [],
   "source": [
    "db.addresses.create_index('neighbourhood', unique=True)\n",
    "for index, row in listings.iterrows():\n",
    "    address = {\n",
    "        \"neighbourhood\"      : row[\"neighbourhood_cleansed\"],\n",
    "        \"zipcode\"            : row[\"zipcode\"],\n",
    "        \"country_code\"       : row[\"country_code\"],\n",
    "        \"coordinates\"        : [row[\"latitude\"], row[\"longitude\"]],\n",
    "        \"is_location_exact\"  : row[\"is_location_exact\"]\n",
    "    }\n",
    "    try:\n",
    "        db.addresses.insert_one(address)\n",
    "    except pymongo.errors.DuplicateKeyError:\n",
    "        pass"
   ]
  },
  {
   "cell_type": "code",
   "execution_count": 26,
   "metadata": {},
   "outputs": [],
   "source": [
    "for index, row in reviews.iterrows():\n",
    "    review = {\n",
    "        \"reviewer_id\"    : str(row[\"reviewer_id\"]),\n",
    "        \"listing_id\"     : str(row[\"listing_id\"]),\n",
    "        \"date\"           : datetime.strptime(row[\"date\"], \"%Y-%m-%d\"),\n",
    "        \"comments\"       : row[\"comments\"]\n",
    "    }\n",
    "    \n",
    "    db.reviews.insert_one(review)"
   ]
  },
  {
   "cell_type": "code",
   "execution_count": 27,
   "metadata": {},
   "outputs": [],
   "source": [
    "# Host Node\n",
    "db.hosts.create_index('host_id', unique=True)\n",
    "for index, row in listings.iterrows():\n",
    "    host = {\n",
    "        \"host_id\"             : str(row[\"host_id\"]),\n",
    "        \"host_name\"                : row[\"host_name\"],\n",
    "        \"password\"           : row[\"password\"],\n",
    "        \"host_image\"          : row[\"host_picture_url\"],\n",
    "        \"about\"               : row[\"host_about\"],\n",
    "        \n",
    "        \"listings_count\"      : 0 if str(type(row[\"host_listings_count\"])) == \"<class 'float'>\" else int(row[\"host_listings_count\"]),\n",
    "        \n",
    "        \"response_time\"       : row[\"host_response_time\"],\n",
    "        \"acceptance_rate\"     : row[\"host_acceptance_rate\"],\n",
    "        \"response_rate\"       : row[\"host_response_rate\"],\n",
    "        \n",
    "        \"host_since\"          : \"not available\" if str(type(row[\"host_listings_count\"])) == \"<class 'float'>\" else datetime.strptime(row[\"host_since\"], \"%Y-%m-%d\"),\n",
    "        \"host_url\"            : row[\"host_url\"],\n",
    "        \n",
    "        \"is_superhost\"        : row[\"host_is_superhost\"],\n",
    "        \"host_location\"       : row[\"host_location\"],\n",
    "        \n",
    "        \"identity_verified\"   : row[\"host_identity_verified\"] == 'f'      \n",
    "    }\n",
    "    try:\n",
    "        db.hosts.insert_one(host)\n",
    "    except pymongo.errors.DuplicateKeyError:\n",
    "        pass"
   ]
  },
  {
   "cell_type": "markdown",
   "metadata": {},
   "source": [
    "## NEO4J"
   ]
  },
  {
   "cell_type": "markdown",
   "metadata": {},
   "source": [
    "### IMPORTING LIBRARIES"
   ]
  },
  {
   "cell_type": "code",
   "execution_count": 28,
   "metadata": {},
   "outputs": [],
   "source": [
    "from neo4j import GraphDatabase"
   ]
  },
  {
   "cell_type": "code",
   "execution_count": 29,
   "metadata": {},
   "outputs": [],
   "source": [
    "uri = \"bolt://localhost:7687\"\n",
    "driver = GraphDatabase.driver(uri, auth=(\"neo4j\", \"rachsam99\"), encrypted = False)\n",
    "db_session = driver.session()"
   ]
  },
  {
   "cell_type": "markdown",
   "metadata": {},
   "source": [
    "### CREATING NODES"
   ]
  },
  {
   "cell_type": "code",
   "execution_count": 30,
   "metadata": {},
   "outputs": [
    {
     "data": {
      "text/plain": [
       "<neo4j.BoltStatementResult at 0x2730a721e88>"
      ]
     },
     "execution_count": 30,
     "metadata": {},
     "output_type": "execute_result"
    }
   ],
   "source": [
    "# User Node\n",
    "\n",
    "query1 = \"\"\"CALL apoc.mongodb.get('localhost:27017', 'package_adbms', 'users', null, true) yield value as doc \n",
    "CREATE (u: User {id : doc.userid, name : doc.username, password : doc.password})\"\"\"\n",
    "\n",
    "db_session.run(query1)"
   ]
  },
  {
   "cell_type": "code",
   "execution_count": 35,
   "metadata": {},
   "outputs": [
    {
     "data": {
      "text/plain": [
       "<neo4j.BoltStatementResult at 0x2730b528c08>"
      ]
     },
     "execution_count": 35,
     "metadata": {},
     "output_type": "execute_result"
    }
   ],
   "source": [
    "# Listings Node\n",
    "\n",
    "query2 = \"\"\"CALL apoc.mongodb.get('localhost:27017', 'package_adbms', 'listings', null, true) yield value as doc \n",
    "CREATE (l : Listing {listing_id : doc.listing_id, listing_name : doc.listing_name, host_id : doc.host_id, \n",
    "neighbourhood : doc.neighbourhood})\"\"\"\n",
    "db_session.run(query2)"
   ]
  },
  {
   "cell_type": "code",
   "execution_count": 32,
   "metadata": {},
   "outputs": [
    {
     "data": {
      "text/plain": [
       "<neo4j.BoltStatementResult at 0x2730b51eb48>"
      ]
     },
     "execution_count": 32,
     "metadata": {},
     "output_type": "execute_result"
    }
   ],
   "source": [
    "# Address Node\n",
    "query3 = \"\"\"CALL apoc.mongodb.get('localhost:27017', 'package_adbms', 'addresses', null, true) yield value as doc \n",
    "CREATE (a : Address {neighbourhood : doc.neighbourhood, zipcode : doc.zipcode, \n",
    "country_code : doc.country_code, coordinates : doc.coordinates, is_location_exact : doc.is_location_exact})\"\"\"\n",
    "db_session.run(query3)"
   ]
  },
  {
   "cell_type": "code",
   "execution_count": 33,
   "metadata": {},
   "outputs": [
    {
     "data": {
      "text/plain": [
       "<neo4j.BoltStatementResult at 0x2730b523688>"
      ]
     },
     "execution_count": 33,
     "metadata": {},
     "output_type": "execute_result"
    }
   ],
   "source": [
    "# Review Node\n",
    "query4 = \"\"\"CALL apoc.mongodb.get('localhost:27017', 'package_adbms', 'reviews', null, true) yield value as doc \n",
    "CREATE (r: Review {reviewer_id : doc.reviewer_id, listing_id : doc.listing_id, date : date(doc.date), comments : doc.comments})\"\"\"\n",
    "\n",
    "db_session.run(query4)"
   ]
  },
  {
   "cell_type": "code",
   "execution_count": 34,
   "metadata": {},
   "outputs": [
    {
     "data": {
      "text/plain": [
       "<neo4j.BoltStatementResult at 0x2730b528208>"
      ]
     },
     "execution_count": 34,
     "metadata": {},
     "output_type": "execute_result"
    }
   ],
   "source": [
    "#Host Node\n",
    "query5 = \"\"\"CALL apoc.mongodb.get('localhost:27017', 'package_adbms', 'hosts', null, true) yield value as doc \n",
    "CREATE (h: Hosts {host_id : doc.host_id, host_name : doc.host_name, password : doc.password})\"\"\"\n",
    "\n",
    "db_session.run(query5)"
   ]
  },
  {
   "cell_type": "markdown",
   "metadata": {},
   "source": [
    "### CREATING RELATIONSHIPS"
   ]
  },
  {
   "cell_type": "code",
   "execution_count": 36,
   "metadata": {},
   "outputs": [
    {
     "data": {
      "text/plain": [
       "<neo4j.BoltStatementResult at 0x2730b52d6c8>"
      ]
     },
     "execution_count": 36,
     "metadata": {},
     "output_type": "execute_result"
    }
   ],
   "source": [
    "# Creating Relationship between User and Review\n",
    "query6 = \"MATCH (u: User), (r: Review) WHERE u.id = r.reviewer_id CREATE (u) -[:WROTE]-> (r)\"\n",
    "db_session.run(query6)"
   ]
  },
  {
   "cell_type": "code",
   "execution_count": 37,
   "metadata": {},
   "outputs": [
    {
     "data": {
      "text/plain": [
       "<neo4j.BoltStatementResult at 0x2730b535088>"
      ]
     },
     "execution_count": 37,
     "metadata": {},
     "output_type": "execute_result"
    }
   ],
   "source": [
    "# Creating Relationship between Review and Listing\n",
    "query7 = \"MATCH (r: Review), (l: Listing) WHERE r.listing_id = l.listing_id CREATE (r) -[:REVIEWED]-> (l)\"\n",
    "db_session.run(query7)"
   ]
  },
  {
   "cell_type": "code",
   "execution_count": 38,
   "metadata": {},
   "outputs": [
    {
     "data": {
      "text/plain": [
       "<neo4j.BoltStatementResult at 0x2730b535a48>"
      ]
     },
     "execution_count": 38,
     "metadata": {},
     "output_type": "execute_result"
    }
   ],
   "source": [
    "# Creating Relationship between Listing and Address\n",
    "query8 = \"MATCH (a: Address), (l: Listing) WHERE a.neighbourhood = l.neighbourhood CREATE (l) -[:LOCATED]-> (a)\"\n",
    "db_session.run(query8)"
   ]
  },
  {
   "cell_type": "code",
   "execution_count": 40,
   "metadata": {},
   "outputs": [
    {
     "data": {
      "text/plain": [
       "<neo4j.BoltStatementResult at 0x2730b536c48>"
      ]
     },
     "execution_count": 40,
     "metadata": {},
     "output_type": "execute_result"
    }
   ],
   "source": [
    "# Creating Relationship between Host and Listing\n",
    "query9 = \"MATCH (h: Hosts), (l: Listing) WHERE h.host_id = l.host_id CREATE (h) -[:HOSTS]-> (l)\"\n",
    "db_session.run(query9)"
   ]
  }
 ],
 "metadata": {
  "kernelspec": {
   "display_name": "Python 3",
   "language": "python",
   "name": "python3"
  },
  "language_info": {
   "codemirror_mode": {
    "name": "ipython",
    "version": 3
   },
   "file_extension": ".py",
   "mimetype": "text/x-python",
   "name": "python",
   "nbconvert_exporter": "python",
   "pygments_lexer": "ipython3",
   "version": "3.7.7"
  }
 },
 "nbformat": 4,
 "nbformat_minor": 4
}
